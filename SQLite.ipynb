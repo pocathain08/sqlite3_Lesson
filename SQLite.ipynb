{
 "cells": [
  {
   "cell_type": "markdown",
   "metadata": {},
   "source": [
    "# SQLite in Python"
   ]
  },
  {
   "cell_type": "code",
   "execution_count": 1,
   "metadata": {},
   "outputs": [],
   "source": [
    "import sqlite3"
   ]
  },
  {
   "cell_type": "code",
   "execution_count": 2,
   "metadata": {},
   "outputs": [],
   "source": [
    "conn = sqlite3.connect('example.db')"
   ]
  },
  {
   "cell_type": "code",
   "execution_count": 3,
   "metadata": {},
   "outputs": [],
   "source": [
    "c = conn.cursor()"
   ]
  },
  {
   "cell_type": "code",
   "execution_count": 4,
   "metadata": {},
   "outputs": [],
   "source": [
    "c.execute('CREATE TABLE person1 (name text, address text)') \n",
    "# note, ' denote the number of lines the table will be created in, here, 1 line\n",
    "\n",
    "conn.commit()"
   ]
  },
  {
   "cell_type": "code",
   "execution_count": 5,
   "metadata": {},
   "outputs": [
    {
     "data": {
      "text/plain": [
       "[('person1',)]"
      ]
     },
     "execution_count": 5,
     "metadata": {},
     "output_type": "execute_result"
    }
   ],
   "source": [
    "c.execute(\"SELECT name FROM sqlite_master WHERE type = 'table'\")\n",
    "c.fetchall()"
   ]
  },
  {
   "cell_type": "markdown",
   "metadata": {},
   "source": [
    "- The above created a table called person with two text cols, name and address. It then listed the tables created from a master list called sqlite_master.\n",
    "- Next video is how to inset data"
   ]
  },
  {
   "cell_type": "code",
   "execution_count": 6,
   "metadata": {},
   "outputs": [],
   "source": [
    "c.execute(\"INSERT INTO person1 VALUES('Anna Henry', 'Carlow')\")\n",
    "conn.commit()"
   ]
  },
  {
   "cell_type": "code",
   "execution_count": 7,
   "metadata": {},
   "outputs": [
    {
     "data": {
      "text/plain": [
       "[('Anna Henry', 'Carlow')]"
      ]
     },
     "execution_count": 7,
     "metadata": {},
     "output_type": "execute_result"
    }
   ],
   "source": [
    "c.execute(\"SELECT * FROM person1\")\n",
    "# * is a wild card, it means all of the Cols\n",
    "c.fetchall()"
   ]
  },
  {
   "cell_type": "code",
   "execution_count": 8,
   "metadata": {},
   "outputs": [
    {
     "data": {
      "text/plain": [
       "[('Anna Henry',)]"
      ]
     },
     "execution_count": 8,
     "metadata": {},
     "output_type": "execute_result"
    }
   ],
   "source": [
    "c.execute(\"SELECT name FROM person1\")\n",
    "\n",
    "c.fetchall()"
   ]
  },
  {
   "cell_type": "code",
   "execution_count": 9,
   "metadata": {},
   "outputs": [],
   "source": [
    "person = [('Shelby Beck', 'Tipperary'), ('Maria Carr', 'Kerry'), ('Sean Heath', 'Cork')]\n",
    "# two dimentional array"
   ]
  },
  {
   "cell_type": "code",
   "execution_count": 10,
   "metadata": {},
   "outputs": [
    {
     "data": {
      "text/plain": [
       "[('Shelby Beck', 'Tipperary'), ('Maria Carr', 'Kerry'), ('Sean Heath', 'Cork')]"
      ]
     },
     "execution_count": 10,
     "metadata": {},
     "output_type": "execute_result"
    }
   ],
   "source": [
    "person"
   ]
  },
  {
   "cell_type": "code",
   "execution_count": 11,
   "metadata": {},
   "outputs": [],
   "source": [
    "c.executemany(\"INSERT INTO person1 VALUES(?, ?)\", person)\n",
    "conn.commit()"
   ]
  },
  {
   "cell_type": "code",
   "execution_count": 15,
   "metadata": {},
   "outputs": [
    {
     "data": {
      "text/plain": [
       "[('Anna Henry', 'Carlow'),\n",
       " ('Shelby Beck', 'Tipperary'),\n",
       " ('Maria Carr', 'Kerry'),\n",
       " ('Sean Heath', 'Cork')]"
      ]
     },
     "execution_count": 15,
     "metadata": {},
     "output_type": "execute_result"
    }
   ],
   "source": [
    "c.execute(\"SELECT name, address FROM person1\")\n",
    "\n",
    "c.fetchall()"
   ]
  },
  {
   "cell_type": "markdown",
   "metadata": {},
   "source": [
    "- see $pandas.DataFrame.to_sql $ to get a csv file converted to a CSV"
   ]
  },
  {
   "cell_type": "markdown",
   "metadata": {},
   "source": [
    "- Constraints, i.e. can't enter the same data twice, but SQLite will allow this by allowing a type of index called row id. Iis a number that increments when a new row is added. \n",
    "- Rows can be deleted by using the uniqie identifier. \n"
   ]
  },
  {
   "cell_type": "code",
   "execution_count": 16,
   "metadata": {},
   "outputs": [
    {
     "data": {
      "text/plain": [
       "[(1, 'Anna Henry', 'Carlow'),\n",
       " (2, 'Shelby Beck', 'Tipperary'),\n",
       " (3, 'Maria Carr', 'Kerry'),\n",
       " (4, 'Sean Heath', 'Cork')]"
      ]
     },
     "execution_count": 16,
     "metadata": {},
     "output_type": "execute_result"
    }
   ],
   "source": [
    "c.execute(\"SELECT ROWID, name, address FROM person1\")\n",
    "\n",
    "c.fetchall()"
   ]
  },
  {
   "cell_type": "markdown",
   "metadata": {},
   "source": [
    "- The ROWID can be added automatically by adding 'id INTEGER PRIMARY KEY' in creating a table, i.e. \n",
    "- c.execute('CREATE TABLE person1 (id INTEGER PRIMARY KEY, name text, address text)') "
   ]
  },
  {
   "cell_type": "markdown",
   "metadata": {},
   "source": [
    "### To delete a row use:\n",
    "- c.execute(DELETE FROM person1 WHERE ROWID=1)\n",
    "- conn.commit()"
   ]
  },
  {
   "cell_type": "markdown",
   "metadata": {},
   "source": [
    "## SQLite3: with pandas"
   ]
  },
  {
   "cell_type": "code",
   "execution_count": 17,
   "metadata": {},
   "outputs": [
    {
     "ename": "OperationalError",
     "evalue": "no such table: person",
     "output_type": "error",
     "traceback": [
      "\u001b[1;31m---------------------------------------------------------------------------\u001b[0m",
      "\u001b[1;31mOperationalError\u001b[0m                          Traceback (most recent call last)",
      "\u001b[1;32m<ipython-input-17-ae5e096558eb>\u001b[0m in \u001b[0;36m<module>\u001b[1;34m\u001b[0m\n\u001b[1;32m----> 1\u001b[1;33m \u001b[0mc\u001b[0m\u001b[1;33m.\u001b[0m\u001b[0mexecute\u001b[0m\u001b[1;33m(\u001b[0m\u001b[1;34m\"DROP TABLE person\"\u001b[0m\u001b[1;33m)\u001b[0m\u001b[1;33m\u001b[0m\u001b[1;33m\u001b[0m\u001b[0m\n\u001b[0m\u001b[0;32m      2\u001b[0m \u001b[0mconn\u001b[0m\u001b[1;33m.\u001b[0m\u001b[0mcommit\u001b[0m\u001b[1;33m(\u001b[0m\u001b[1;33m)\u001b[0m\u001b[1;33m\u001b[0m\u001b[1;33m\u001b[0m\u001b[0m\n",
      "\u001b[1;31mOperationalError\u001b[0m: no such table: person"
     ]
    }
   ],
   "source": [
    "c.execute(\"DROP TABLE person\")\n",
    "conn.commit()"
   ]
  },
  {
   "cell_type": "code",
   "execution_count": 18,
   "metadata": {},
   "outputs": [
    {
     "data": {
      "text/plain": [
       "[('person1',)]"
      ]
     },
     "execution_count": 18,
     "metadata": {},
     "output_type": "execute_result"
    }
   ],
   "source": [
    "c.execute(\"SELECT name FROM sqlite_master WHERE type = 'table'\")\n",
    "c.fetchall()"
   ]
  },
  {
   "cell_type": "code",
   "execution_count": 19,
   "metadata": {},
   "outputs": [],
   "source": [
    "c.execute(\"DROP TABLE person1\")\n",
    "conn.commit()"
   ]
  },
  {
   "cell_type": "code",
   "execution_count": 20,
   "metadata": {},
   "outputs": [
    {
     "data": {
      "text/plain": [
       "[]"
      ]
     },
     "execution_count": 20,
     "metadata": {},
     "output_type": "execute_result"
    }
   ],
   "source": [
    "c.execute(\"SELECT name FROM sqlite_master WHERE type = 'table'\")\n",
    "c.fetchall()"
   ]
  },
  {
   "cell_type": "code",
   "execution_count": 23,
   "metadata": {},
   "outputs": [],
   "source": [
    "import pandas as pd"
   ]
  },
  {
   "cell_type": "code",
   "execution_count": 25,
   "metadata": {},
   "outputs": [
    {
     "data": {
      "text/html": [
       "<div>\n",
       "<style scoped>\n",
       "    .dataframe tbody tr th:only-of-type {\n",
       "        vertical-align: middle;\n",
       "    }\n",
       "\n",
       "    .dataframe tbody tr th {\n",
       "        vertical-align: top;\n",
       "    }\n",
       "\n",
       "    .dataframe thead th {\n",
       "        text-align: right;\n",
       "    }\n",
       "</style>\n",
       "<table border=\"1\" class=\"dataframe\">\n",
       "  <thead>\n",
       "    <tr style=\"text-align: right;\">\n",
       "      <th></th>\n",
       "      <th>Name</th>\n",
       "      <th>Address</th>\n",
       "    </tr>\n",
       "    <tr>\n",
       "      <th>ID</th>\n",
       "      <th></th>\n",
       "      <th></th>\n",
       "    </tr>\n",
       "  </thead>\n",
       "  <tbody>\n",
       "    <tr>\n",
       "      <td>0</td>\n",
       "      <td>Anna Henry</td>\n",
       "      <td>Carlow</td>\n",
       "    </tr>\n",
       "    <tr>\n",
       "      <td>1</td>\n",
       "      <td>Shelby Beck</td>\n",
       "      <td>Tipperary</td>\n",
       "    </tr>\n",
       "    <tr>\n",
       "      <td>2</td>\n",
       "      <td>Marie Carr</td>\n",
       "      <td>Kerry</td>\n",
       "    </tr>\n",
       "    <tr>\n",
       "      <td>3</td>\n",
       "      <td>Sarah Heath</td>\n",
       "      <td>Monaghan</td>\n",
       "    </tr>\n",
       "    <tr>\n",
       "      <td>4</td>\n",
       "      <td>Robert Snyder</td>\n",
       "      <td>Leitrim</td>\n",
       "    </tr>\n",
       "    <tr>\n",
       "      <td>5</td>\n",
       "      <td>Lucas Ross</td>\n",
       "      <td>Cork</td>\n",
       "    </tr>\n",
       "    <tr>\n",
       "      <td>6</td>\n",
       "      <td>David Cox</td>\n",
       "      <td>Leitrim</td>\n",
       "    </tr>\n",
       "    <tr>\n",
       "      <td>7</td>\n",
       "      <td>Jackson Dean</td>\n",
       "      <td>Louth</td>\n",
       "    </tr>\n",
       "    <tr>\n",
       "      <td>8</td>\n",
       "      <td>Elizabeth Mcfarland</td>\n",
       "      <td>Dublin</td>\n",
       "    </tr>\n",
       "    <tr>\n",
       "      <td>9</td>\n",
       "      <td>Timothy Cummings</td>\n",
       "      <td>Limerick</td>\n",
       "    </tr>\n",
       "  </tbody>\n",
       "</table>\n",
       "</div>"
      ],
      "text/plain": [
       "                   Name    Address\n",
       "ID                                \n",
       "0            Anna Henry     Carlow\n",
       "1           Shelby Beck  Tipperary\n",
       "2            Marie Carr      Kerry\n",
       "3           Sarah Heath   Monaghan\n",
       "4         Robert Snyder    Leitrim\n",
       "5            Lucas Ross       Cork\n",
       "6             David Cox    Leitrim\n",
       "7          Jackson Dean      Louth\n",
       "8   Elizabeth Mcfarland     Dublin\n",
       "9      Timothy Cummings   Limerick"
      ]
     },
     "execution_count": 25,
     "metadata": {},
     "output_type": "execute_result"
    }
   ],
   "source": [
    "person = pd.read_csv(\"https://raw.githubusercontent.com/ianmcloughlin/datasets/master/cars-db/person.csv\", index_col=0)\n",
    "person.head(10)"
   ]
  },
  {
   "cell_type": "code",
   "execution_count": 26,
   "metadata": {},
   "outputs": [],
   "source": [
    "person.to_sql(\"person\", conn)"
   ]
  },
  {
   "cell_type": "code",
   "execution_count": 31,
   "metadata": {},
   "outputs": [],
   "source": [
    "#c.execute(\"SELECT * FROM person\")\n",
    "#c.fetchall()"
   ]
  },
  {
   "cell_type": "code",
   "execution_count": 29,
   "metadata": {},
   "outputs": [],
   "source": [
    "car = pd.read_csv(\"https://raw.githubusercontent.com/ianmcloughlin/datasets/master/cars-db/car.csv\", index_col=0)\n",
    "car.to_sql(\"car\", conn)\n"
   ]
  },
  {
   "cell_type": "code",
   "execution_count": 32,
   "metadata": {},
   "outputs": [],
   "source": [
    "#c.execute(\"SELECT * FROM car\")\n",
    "#c.fetchall()"
   ]
  },
  {
   "cell_type": "code",
   "execution_count": 33,
   "metadata": {},
   "outputs": [],
   "source": [
    "county = pd.read_csv(\"https://raw.githubusercontent.com/ianmcloughlin/datasets/master/cars-db/county.csv\", index_col=0)\n",
    "county.to_sql(\"county\", conn)"
   ]
  },
  {
   "cell_type": "code",
   "execution_count": 34,
   "metadata": {},
   "outputs": [
    {
     "data": {
      "text/plain": [
       "[('person',), ('car',), ('county',)]"
      ]
     },
     "execution_count": 34,
     "metadata": {},
     "output_type": "execute_result"
    }
   ],
   "source": [
    "c.execute(\"SELECT name FROM sqlite_master WHERE type = 'table'\")\n",
    "c.fetchall()"
   ]
  },
  {
   "cell_type": "code",
   "execution_count": 38,
   "metadata": {},
   "outputs": [
    {
     "data": {
      "text/plain": [
       "[('Timothy Cummings', '08-SO-11072'),\n",
       " ('Dana Wade', '16-KE-16368'),\n",
       " ('Valerie Stewart', '08-LD-16871'),\n",
       " ('Gregory Vazquez', '11-KY-17442'),\n",
       " ('Sara Lee', '16-LD-17545'),\n",
       " ('Jennifer Reeves', '10-WH-3543'),\n",
       " ('Leonard Chen', '03-KE-8148'),\n",
       " ('Robert Snyder', '06-G-23024'),\n",
       " ('Morgan Marsh', '08-LS-21770'),\n",
       " ('Kayla Rodriguez DVM', '03-WX-41717'),\n",
       " ('Robert Acevedo', '01-T-37495'),\n",
       " ('Susan Cummings', '11-WH-22446'),\n",
       " ('Anne Anderson', '09-MN-43311'),\n",
       " ('Anna Henry', '05-KK-2596'),\n",
       " ('Melanie White', '17-SO-17328'),\n",
       " ('Justin Casey', '99-L-23440'),\n",
       " ('Jacob Moore', '05-WX-31122'),\n",
       " ('Donna Mason', '16-LS-41756'),\n",
       " ('Leonard Brown', '16-RN-45098'),\n",
       " ('Paul Nicholson', '16-C-27251'),\n",
       " ('Stephanie Yates', '06-LD-43721'),\n",
       " ('Connie Walls', '03-RN-2898'),\n",
       " ('Tina Holland', '10-CW-49121'),\n",
       " ('Nicholas Carrillo', '15-LS-45283'),\n",
       " ('Anna Henry', '08-D-43986'),\n",
       " ('Devin Shaw', '08-DL-49460'),\n",
       " ('Melinda Blackwell', '08-DL-20130'),\n",
       " ('Robert Snyder', '10-WX-18691'),\n",
       " ('Marie Carr', '08-T-37917'),\n",
       " ('David Cox', '15-D-6469'),\n",
       " ('Richard Foley', '08-L-26251'),\n",
       " ('Alan Cabrera', '15-DL-15311'),\n",
       " ('Marcus Malone', '14-KE-41007'),\n",
       " ('Stephanie Yates', '14-DL-12858'),\n",
       " ('Diane Hunt', '04-WH-36658'),\n",
       " ('Mrs. Kerry Romero', '00-MO-9632'),\n",
       " ('Kathleen Henderson', '99-RN-41288'),\n",
       " ('Mrs. Kerry Romero', '13-MO-7316'),\n",
       " ('Gregory Charles', '00-MH-17952'),\n",
       " ('James Williams', '18-LM-29466'),\n",
       " ('George Fitzgerald', '08-D-18591'),\n",
       " ('Stephanie Yates', '01-KK-27583'),\n",
       " ('Billy King', '13-T-24765'),\n",
       " ('William Hall', '01-RN-44780'),\n",
       " ('Leonard Brown', '04-LD-24948'),\n",
       " ('Valerie Rodriguez', '13-SO-2521'),\n",
       " ('Leonard Brown', '16-WH-32130'),\n",
       " ('Sandra Knight', '13-KE-37707'),\n",
       " ('Mrs. Sheila Wilkerson', '99-CN-35366'),\n",
       " ('Marc Chapman', '18-CN-17743'),\n",
       " ('Alan Williams', '05-LS-6602'),\n",
       " ('Donna Mason', '02-T-2683'),\n",
       " ('Sandra Knight', '06-LD-44064'),\n",
       " ('Connie Walls', '14-SO-35322'),\n",
       " ('Sarah Heath', '00-MH-30641'),\n",
       " ('Karen Roach', '17-MH-38452'),\n",
       " ('Shelby Beck', '01-KY-40015'),\n",
       " ('Laura Miller', '13-G-17426'),\n",
       " ('Robert Fields', '03-LM-41543'),\n",
       " ('Mrs. Kerry Romero', '00-LH-46635'),\n",
       " ('Dana Wade', '09-SO-26131'),\n",
       " ('Glenn Gonzalez', '00-OY-15049'),\n",
       " ('Jesse Chavez', '12-G-20496'),\n",
       " ('Melinda Blackwell', '04-RN-2959'),\n",
       " ('Shelby Beck', '07-KY-17472'),\n",
       " ('James Walker', '03-KY-23864'),\n",
       " ('Robert Price', '03-CW-12234'),\n",
       " ('Valerie Rodriguez', '04-LS-17699'),\n",
       " ('Melinda Blackwell', '12-MO-21340'),\n",
       " ('Raymond Perkins', '14-WW-26729'),\n",
       " ('Connie Walls', '08-KK-6963'),\n",
       " ('Scott Whitaker', '03-D-36946'),\n",
       " ('Crystal Murphy', '03-WX-39739'),\n",
       " ('Timothy Cummings', '15-MO-29166'),\n",
       " ('Kayla Rodriguez DVM', '09-LM-6757'),\n",
       " ('Marie Carr', '99-LD-27879'),\n",
       " ('Raymond Perkins', '16-WX-38806'),\n",
       " ('Nicholas Carrillo', '06-KE-13830'),\n",
       " ('Emily Alvarado', '00-OY-18653'),\n",
       " ('Mrs. Kerry Romero', '09-G-14895'),\n",
       " ('Scott Whitaker', '06-LH-39166'),\n",
       " ('Morgan Marsh', '10-MO-45154'),\n",
       " ('Elizabeth Harper', '04-WH-37901'),\n",
       " ('Stephen Oneal', '13-DL-46087'),\n",
       " ('Justin Casey', '14-CN-12576'),\n",
       " ('Frederick Schwartz', '15-D-4470'),\n",
       " ('Christopher Mcmahon', '00-MO-32274'),\n",
       " ('Paul Nicholson', '15-WH-21313'),\n",
       " ('Melinda Blackwell', '08-D-29496'),\n",
       " ('Peter Vaughn DDS', '00-LD-24730'),\n",
       " ('Gregory Charles', '14-OY-15669'),\n",
       " ('Peter Vaughn DDS', '00-MO-6904'),\n",
       " ('Lucas Ross', '17-DL-4885'),\n",
       " ('Jenny Juarez', '05-MN-17446'),\n",
       " ('Jordan Velasquez', '04-L-19474'),\n",
       " ('Alan Williams', '99-WW-237'),\n",
       " ('Kerry Curry', '03-G-36241'),\n",
       " ('Sarah Heath', '09-W-11201'),\n",
       " ('Robert Acevedo', '13-MO-34031'),\n",
       " ('Tina Holland', '02-KK-25507'),\n",
       " ('Rachel Johnson', '08-LH-46637'),\n",
       " ('Paul Nicholson', '12-KY-47631'),\n",
       " ('Jennifer Sutton', '01-SO-45136'),\n",
       " ('Jeremiah Soto', '18-WH-15349'),\n",
       " ('Jeremiah Soto', '14-MO-11345'),\n",
       " ('Laura Miller', '13-CE-10371'),\n",
       " ('Frederick Schwartz', '17-KE-21153'),\n",
       " ('Rachel Johnson', '12-G-30288'),\n",
       " ('Jacob Moore', '13-T-20412'),\n",
       " ('Lucas Ross', '08-LS-13835'),\n",
       " ('Devin Shaw', '12-CW-37691'),\n",
       " ('Sarah Heath', '00-KY-48702'),\n",
       " ('Connie Walls', '14-LD-41919'),\n",
       " ('Laura Miller', '18-W-16094'),\n",
       " ('Jacob Moore', '11-MH-39456'),\n",
       " ('Rachel Johnson', '01-KK-21586'),\n",
       " ('Sandra Knight', '09-WX-7243'),\n",
       " ('Megan Clarke', '12-WX-26308'),\n",
       " ('Tina Holland', '02-LS-42993'),\n",
       " ('Nicholas Carrillo', '18-W-44751'),\n",
       " ('Leonard Chen', '11-L-45810'),\n",
       " ('Raymond Perkins', '12-MH-7025'),\n",
       " ('Diane Hunt', '09-CW-13802'),\n",
       " ('Nicholas Carrillo', '11-KK-40419'),\n",
       " ('Connie Walls', '09-MO-27719'),\n",
       " ('Rachel Johnson', '99-RN-21293'),\n",
       " ('Raymond Gould', '06-KK-24445'),\n",
       " ('Dana Wade', '99-DL-44188'),\n",
       " ('Lucas Ross', '17-CW-12306'),\n",
       " ('Melanie White', '12-WH-30512'),\n",
       " ('Donna Mason', '13-CW-22728'),\n",
       " ('Jordan Velasquez', '15-G-27780'),\n",
       " ('Morgan Marsh', '99-WX-37648'),\n",
       " ('Katherine Dalton', '07-G-30931'),\n",
       " ('Mrs. Kerry Romero', '08-G-34713'),\n",
       " ('Peter Vaughn DDS', '03-MO-23757'),\n",
       " ('Morgan Marsh', '09-LD-32395'),\n",
       " ('Donna Mason', '05-KE-47018'),\n",
       " ('Susan Cummings', '18-RN-21403'),\n",
       " ('Paul Raymond', '02-LH-37988'),\n",
       " ('Kathleen Henderson', '11-T-29849'),\n",
       " ('Alan Williams', '99-MN-36507'),\n",
       " ('Gregory Charles', '15-SO-10080'),\n",
       " ('Valerie Rodriguez', '10-KE-5471'),\n",
       " ('Susan Cummings', '09-C-15081'),\n",
       " ('Shelby Beck', '12-D-10674'),\n",
       " ('Jeff Stevens', '16-KK-6777'),\n",
       " ('Nathan Smith', '09-KY-24502'),\n",
       " ('Jeff Stevens', '06-L-13615'),\n",
       " ('Marcus Malone', '11-WX-6607'),\n",
       " ('Jesse Chavez', '99-KY-44876'),\n",
       " ('Susan Cummings', '01-KE-7495'),\n",
       " ('Justin Casey', '06-WH-45961'),\n",
       " ('Shannon Oneal', '13-RN-48840'),\n",
       " ('Melissa Bell', '15-LS-32504'),\n",
       " ('Kayla Rodriguez DVM', '09-KK-33938'),\n",
       " ('Leonard Brown', '15-SO-48732'),\n",
       " ('Tina Holland', '18-LH-9276'),\n",
       " ('Jennifer Reeves', '00-T-13145'),\n",
       " ('Donna Mason', '17-L-8077'),\n",
       " ('Raymond Perkins', '16-KY-38486'),\n",
       " ('Kathleen Henderson', '13-C-5004'),\n",
       " ('Sabrina Thompson', '13-KE-8122'),\n",
       " ('Elizabeth Mcfarland', '13-D-16232'),\n",
       " ('Tracey Olson', '07-OY-29590'),\n",
       " ('John Davis', '18-LS-3902'),\n",
       " ('Christina Bautista', '07-LD-25411'),\n",
       " ('Seth Simpson', '11-OY-49718'),\n",
       " ('Emily Cooper', '09-OY-12095'),\n",
       " ('Emily Alvarado', '10-RN-14168'),\n",
       " ('Jenny Juarez', '00-CN-12132'),\n",
       " ('Peter Vaughn DDS', '14-G-24691'),\n",
       " ('Connie Walls', '08-L-9335'),\n",
       " ('Mrs. Kerry Romero', '13-LS-7544'),\n",
       " ('Sandra Knight', '15-RN-47108'),\n",
       " ('Devin Shaw', '16-RN-12605'),\n",
       " ('Jenny Juarez', '15-WX-13974'),\n",
       " ('Alan Williams', '00-T-26883'),\n",
       " ('Carrie Sullivan', '01-C-1695'),\n",
       " ('Alan Williams', '11-WW-3780'),\n",
       " ('Tina Holland', '06-CW-29425'),\n",
       " ('Laura Miller', '04-MN-1637'),\n",
       " ('Raymond Perkins', '14-OY-39752'),\n",
       " ('Justin Casey', '15-MO-15513'),\n",
       " ('Robert Price', '16-MN-22976'),\n",
       " ('Christopher Miller', '07-OY-14928'),\n",
       " ('Gregory Vazquez', '09-L-10881'),\n",
       " ('Daniel Smith', '99-WX-23085'),\n",
       " ('Valerie Rodriguez', '01-DL-25359'),\n",
       " ('Elizabeth Harper', '00-MO-45664'),\n",
       " ('Daniel Smith', '08-WW-30636'),\n",
       " ('Megan Clarke', '01-CN-16097'),\n",
       " ('Tina Holland', '07-LM-3132'),\n",
       " ('Marc Chapman', '09-T-9813'),\n",
       " ('Anna Henry', '16-KK-30424'),\n",
       " ('Jesse Chavez', '99-CE-38547'),\n",
       " ('Sarah Heath', '10-LM-31279'),\n",
       " ('Paul Nicholson', '18-LH-44089'),\n",
       " ('David Matthews', '02-SO-11359'),\n",
       " ('Elizabeth Mcfarland', '10-KE-33674'),\n",
       " ('George Fitzgerald', '15-KE-8245'),\n",
       " ('Raymond Perkins', '09-KK-23170'),\n",
       " ('Christopher Mcmahon', '14-CN-36381'),\n",
       " ('Christina Bautista', '00-C-29416'),\n",
       " ('Christopher Mcmahon', '10-OY-1992'),\n",
       " ('David Matthews', '10-T-36797'),\n",
       " ('Rachel Johnson', '07-KY-35080'),\n",
       " ('Gail Jones', '08-MO-42969'),\n",
       " ('Jeff Stevens', '07-OY-23008'),\n",
       " ('Joseph Griffith', '14-MO-46320'),\n",
       " ('Katherine Dalton', '09-CW-29560'),\n",
       " ('Devin Shaw', '03-MH-49587'),\n",
       " ('Paul Raymond', '10-MH-34061'),\n",
       " ('Lucas Ross', '08-OY-35517'),\n",
       " ('Peter Vaughn DDS', '04-KY-47667'),\n",
       " ('Gregory Vazquez', '03-C-18358'),\n",
       " ('Marcus Malone', '11-DL-2662'),\n",
       " ('Gail Jones', '06-CW-15872'),\n",
       " ('Jenny Juarez', '08-KE-7824'),\n",
       " ('Sabrina Thompson', '14-WH-21137'),\n",
       " ('Kathleen Henderson', '11-W-6130'),\n",
       " ('Raymond Gould', '03-C-4508'),\n",
       " ('Elizabeth Mcfarland', '02-CN-35760'),\n",
       " ('Megan Clarke', '13-C-5330'),\n",
       " ('Justin Casey', '07-CN-40170'),\n",
       " ('Valerie Rodriguez', '07-CW-32094'),\n",
       " ('Alan Williams', '13-CW-22639'),\n",
       " ('Alan Williams', '10-LD-39262'),\n",
       " ('Stephanie Yates', '14-CE-46501'),\n",
       " ('Susan Cummings', '16-WW-18559'),\n",
       " ('Christopher Miller', '11-LD-42457'),\n",
       " ('Shannon Oneal', '02-W-35723'),\n",
       " ('Tina Holland', '13-RN-4833'),\n",
       " ('Karen Roach', '01-KK-12540'),\n",
       " ('Laura Miller', '14-CN-39530'),\n",
       " ('Carrie Sullivan', '08-T-1665'),\n",
       " ('Frederick Schwartz', '13-LH-30593'),\n",
       " ('Carrie Sullivan', '06-C-24008'),\n",
       " ('Megan Clarke', '12-LH-5689'),\n",
       " ('Leonard Chen', '05-WW-47977'),\n",
       " ('Susan Cummings', '09-KK-5328'),\n",
       " ('Marie Carr', '10-DL-6386'),\n",
       " ('John Davis', '05-MH-22339'),\n",
       " ('Jackson Dean', '02-MH-44541'),\n",
       " ('Jesse Chavez', '18-MN-26444'),\n",
       " ('Gregory Charles', '12-LM-22338'),\n",
       " ('Devin Shaw', '18-KY-29981'),\n",
       " ('Laura Miller', '01-G-8684'),\n",
       " ('Marc Chapman', '04-KY-32797'),\n",
       " ('Paul Nicholson', '08-LD-12240'),\n",
       " ('Donna Mason', '18-WW-11514'),\n",
       " ('Dana Wade', '03-L-40377'),\n",
       " ('Jenny Juarez', '15-G-37225'),\n",
       " ('Emily Alvarado', '14-CN-41515'),\n",
       " ('Robert Fields', '09-LS-131'),\n",
       " ('David Cox', '12-LS-47102'),\n",
       " ('Alan Cabrera', '15-WX-8189'),\n",
       " ('Donna Mason', '13-CW-21688'),\n",
       " ('John Davis', '15-DL-3247'),\n",
       " ('Raymond Perkins', '02-D-22267'),\n",
       " ('Robert Acevedo', '01-LS-33323'),\n",
       " ('Peter Vaughn DDS', '10-WH-9955'),\n",
       " ('Joseph Griffith', '03-MO-4365'),\n",
       " ('Joseph Griffith', '04-LD-23688'),\n",
       " ('Alan Williams', '13-G-16885'),\n",
       " ('Jenny Juarez', '18-KE-36389'),\n",
       " ('Melissa Lowe', '01-T-15866'),\n",
       " ('Christopher Miller', '08-KE-16056'),\n",
       " ('Kayla Rodriguez DVM', '13-G-24475'),\n",
       " ('Emily Cooper', '03-MO-25665'),\n",
       " ('Stephanie Yates', '18-T-2425'),\n",
       " ('Elizabeth Harper', '04-WW-24305'),\n",
       " ('Shannon Oneal', '13-OY-23701'),\n",
       " ('David Matthews', '08-MO-46007'),\n",
       " ('Robert Price', '00-L-47267'),\n",
       " ('Emily Cooper', '08-KK-47849'),\n",
       " ('Elizabeth Harper', '16-MN-41115'),\n",
       " ('Dana Wade', '02-DL-7526'),\n",
       " ('Melanie White', '01-G-15863'),\n",
       " ('Elizabeth Harper', '14-SO-6402'),\n",
       " ('Lori Harmon', '02-CN-7196'),\n",
       " ('Christopher Mcmahon', '01-CW-35670'),\n",
       " ('Sandra Knight', '16-T-45794'),\n",
       " ('Anna Henry', '03-KK-1616'),\n",
       " ('Jennifer Reeves', '08-WX-43305'),\n",
       " ('Mrs. Sheila Wilkerson', '15-W-31836'),\n",
       " ('Susan Cummings', '03-KE-1400'),\n",
       " ('Jared Nguyen', '08-WW-22857'),\n",
       " ('Elizabeth Harper', '15-L-48040'),\n",
       " ('Stephanie Yates', '05-CN-49186'),\n",
       " ('Tracey Olson', '18-T-43669'),\n",
       " ('John Davis', '05-WX-40194'),\n",
       " ('Anna Henry', '08-LH-30886'),\n",
       " ('Melanie White', '07-G-36331'),\n",
       " ('Leonard Chen', '06-WW-48865'),\n",
       " ('Leonard Brown', '16-MO-40801'),\n",
       " ('George Fitzgerald', '15-L-37732'),\n",
       " ('Gail Jones', '10-G-21752'),\n",
       " ('Susan Cummings', '08-C-34297'),\n",
       " ('Jacob Moore', '17-SO-23443'),\n",
       " ('Dana Wade', '05-CN-5924'),\n",
       " ('David Cox', '05-W-22770'),\n",
       " ('Joshua Perez', '10-LH-34050'),\n",
       " ('Robert Fields', '16-LS-26245'),\n",
       " ('Hannah Collier', '05-D-30917'),\n",
       " ('Dana Wade', '07-G-48955'),\n",
       " ('Diane Hunt', '13-G-48846'),\n",
       " ('Megan Clarke', '05-L-42386'),\n",
       " ('Richard Foley', '08-T-12971'),\n",
       " ('Carrie Sullivan', '18-WH-6082'),\n",
       " ('Daniel Smith', '12-MO-30235'),\n",
       " ('John Davis', '16-T-22243'),\n",
       " ('Jeff Stevens', '03-L-37130'),\n",
       " ('Devin Shaw', '12-MO-18353'),\n",
       " ('Robert Fields', '11-MN-11186'),\n",
       " ('Robert Price', '05-WX-40062'),\n",
       " ('Melissa Lowe', '04-D-38409'),\n",
       " ('William Hall', '16-CE-29807'),\n",
       " ('Joseph Griffith', '15-D-4632'),\n",
       " ('Joshua Perez', '14-LM-31240'),\n",
       " ('David Cox', '15-LH-20280'),\n",
       " ('Jeff Stevens', '04-L-14265'),\n",
       " ('Sandra Knight', '05-KK-13066'),\n",
       " ('Jordan Velasquez', '02-MN-14407'),\n",
       " ('Jared Nguyen', '11-CE-42446'),\n",
       " ('Melissa Lowe', '16-W-29168'),\n",
       " ('Katherine Dalton', '03-G-19542'),\n",
       " ('Hannah Collier', '18-MO-35400'),\n",
       " ('Alan Williams', '11-KK-35894'),\n",
       " ('Seth Simpson', '07-G-5958')]"
      ]
     },
     "execution_count": 38,
     "metadata": {},
     "output_type": "execute_result"
    }
   ],
   "source": [
    "c.execute(\"\"\"\n",
    "         SELECT p.Name, c.Registration\n",
    "         FROM person as p JOIN car as c ON p.ID= c.OwnerID\n",
    "         \"\"\")\n",
    "c.fetchall()"
   ]
  },
  {
   "cell_type": "markdown",
   "metadata": {},
   "source": [
    "- Joined person from one table to car from another.\n",
    "- SQLite very efficent at looking at datasets and joining"
   ]
  },
  {
   "cell_type": "code",
   "execution_count": 39,
   "metadata": {},
   "outputs": [
    {
     "data": {
      "text/plain": [
       "[('Timothy Cummings', '08-SO-11072', 'Limerick'),\n",
       " ('Dana Wade', '16-KE-16368', 'Mayo'),\n",
       " ('Valerie Stewart', '08-LD-16871', 'Longford'),\n",
       " ('Gregory Vazquez', '11-KY-17442', 'Sligo'),\n",
       " ('Sara Lee', '16-LD-17545', 'Laois'),\n",
       " ('Jennifer Reeves', '10-WH-3543', 'Offaly'),\n",
       " ('Leonard Chen', '03-KE-8148', 'Galway'),\n",
       " ('Robert Snyder', '06-G-23024', 'Leitrim'),\n",
       " ('Morgan Marsh', '08-LS-21770', 'Westmeath'),\n",
       " ('Kayla Rodriguez DVM', '03-WX-41717', 'Clare'),\n",
       " ('Robert Acevedo', '01-T-37495', 'Meath'),\n",
       " ('Susan Cummings', '11-WH-22446', 'Cork'),\n",
       " ('Anne Anderson', '09-MN-43311', 'Cork'),\n",
       " ('Anna Henry', '05-KK-2596', 'Carlow'),\n",
       " ('Melanie White', '17-SO-17328', 'Carlow'),\n",
       " ('Justin Casey', '99-L-23440', 'Louth'),\n",
       " ('Jacob Moore', '05-WX-31122', 'Longford'),\n",
       " ('Donna Mason', '16-LS-41756', 'Longford'),\n",
       " ('Leonard Brown', '16-RN-45098', 'Sligo'),\n",
       " ('Paul Nicholson', '16-C-27251', 'Wexford'),\n",
       " ('Stephanie Yates', '06-LD-43721', 'Meath'),\n",
       " ('Connie Walls', '03-RN-2898', 'Limerick'),\n",
       " ('Tina Holland', '10-CW-49121', 'Sligo'),\n",
       " ('Nicholas Carrillo', '15-LS-45283', 'Laois'),\n",
       " ('Anna Henry', '08-D-43986', 'Carlow'),\n",
       " ('Devin Shaw', '08-DL-49460', 'Wexford'),\n",
       " ('Melinda Blackwell', '08-DL-20130', 'Mayo'),\n",
       " ('Robert Snyder', '10-WX-18691', 'Leitrim'),\n",
       " ('Marie Carr', '08-T-37917', 'Kerry'),\n",
       " ('David Cox', '15-D-6469', 'Leitrim'),\n",
       " ('Richard Foley', '08-L-26251', 'Offaly'),\n",
       " ('Alan Cabrera', '15-DL-15311', 'Leitrim'),\n",
       " ('Marcus Malone', '14-KE-41007', 'Kildare'),\n",
       " ('Stephanie Yates', '14-DL-12858', 'Meath'),\n",
       " ('Diane Hunt', '04-WH-36658', 'Westmeath'),\n",
       " ('Mrs. Kerry Romero', '00-MO-9632', 'Limerick'),\n",
       " ('Kathleen Henderson', '99-RN-41288', 'Monaghan'),\n",
       " ('Mrs. Kerry Romero', '13-MO-7316', 'Limerick'),\n",
       " ('Gregory Charles', '00-MH-17952', 'Wicklow'),\n",
       " ('James Williams', '18-LM-29466', 'Kilkenny'),\n",
       " ('George Fitzgerald', '08-D-18591', 'Carlow'),\n",
       " ('Stephanie Yates', '01-KK-27583', 'Meath'),\n",
       " ('Billy King', '13-T-24765', 'Louth'),\n",
       " ('William Hall', '01-RN-44780', 'Kerry'),\n",
       " ('Leonard Brown', '04-LD-24948', 'Sligo'),\n",
       " ('Valerie Rodriguez', '13-SO-2521', 'Kerry'),\n",
       " ('Leonard Brown', '16-WH-32130', 'Sligo'),\n",
       " ('Sandra Knight', '13-KE-37707', 'Offaly'),\n",
       " ('Mrs. Sheila Wilkerson', '99-CN-35366', 'Tipperary'),\n",
       " ('Marc Chapman', '18-CN-17743', 'Dublin'),\n",
       " ('Alan Williams', '05-LS-6602', 'Galway'),\n",
       " ('Donna Mason', '02-T-2683', 'Longford'),\n",
       " ('Sandra Knight', '06-LD-44064', 'Offaly'),\n",
       " ('Connie Walls', '14-SO-35322', 'Limerick'),\n",
       " ('Sarah Heath', '00-MH-30641', 'Monaghan'),\n",
       " ('Karen Roach', '17-MH-38452', 'Sligo'),\n",
       " ('Shelby Beck', '01-KY-40015', 'Tipperary'),\n",
       " ('Laura Miller', '13-G-17426', 'Louth'),\n",
       " ('Robert Fields', '03-LM-41543', 'Louth'),\n",
       " ('Mrs. Kerry Romero', '00-LH-46635', 'Limerick'),\n",
       " ('Dana Wade', '09-SO-26131', 'Mayo'),\n",
       " ('Glenn Gonzalez', '00-OY-15049', 'Leitrim'),\n",
       " ('Jesse Chavez', '12-G-20496', 'Meath'),\n",
       " ('Melinda Blackwell', '04-RN-2959', 'Mayo'),\n",
       " ('Shelby Beck', '07-KY-17472', 'Tipperary'),\n",
       " ('James Walker', '03-KY-23864', 'Tipperary'),\n",
       " ('Robert Price', '03-CW-12234', 'Dublin'),\n",
       " ('Valerie Rodriguez', '04-LS-17699', 'Kerry'),\n",
       " ('Melinda Blackwell', '12-MO-21340', 'Mayo'),\n",
       " ('Raymond Perkins', '14-WW-26729', 'Clare'),\n",
       " ('Connie Walls', '08-KK-6963', 'Limerick'),\n",
       " ('Scott Whitaker', '03-D-36946', 'Offaly'),\n",
       " ('Crystal Murphy', '03-WX-39739', 'Clare'),\n",
       " ('Timothy Cummings', '15-MO-29166', 'Limerick'),\n",
       " ('Kayla Rodriguez DVM', '09-LM-6757', 'Clare'),\n",
       " ('Marie Carr', '99-LD-27879', 'Kerry'),\n",
       " ('Raymond Perkins', '16-WX-38806', 'Clare'),\n",
       " ('Nicholas Carrillo', '06-KE-13830', 'Laois'),\n",
       " ('Emily Alvarado', '00-OY-18653', 'Longford'),\n",
       " ('Mrs. Kerry Romero', '09-G-14895', 'Limerick'),\n",
       " ('Scott Whitaker', '06-LH-39166', 'Offaly'),\n",
       " ('Morgan Marsh', '10-MO-45154', 'Westmeath'),\n",
       " ('Elizabeth Harper', '04-WH-37901', 'Donegal'),\n",
       " ('Stephen Oneal', '13-DL-46087', 'Louth'),\n",
       " ('Justin Casey', '14-CN-12576', 'Louth'),\n",
       " ('Frederick Schwartz', '15-D-4470', 'Dublin'),\n",
       " ('Christopher Mcmahon', '00-MO-32274', 'Limerick'),\n",
       " ('Paul Nicholson', '15-WH-21313', 'Wexford'),\n",
       " ('Melinda Blackwell', '08-D-29496', 'Mayo'),\n",
       " ('Peter Vaughn DDS', '00-LD-24730', 'Cork'),\n",
       " ('Gregory Charles', '14-OY-15669', 'Wicklow'),\n",
       " ('Peter Vaughn DDS', '00-MO-6904', 'Cork'),\n",
       " ('Lucas Ross', '17-DL-4885', 'Cork'),\n",
       " ('Jenny Juarez', '05-MN-17446', 'Longford'),\n",
       " ('Jordan Velasquez', '04-L-19474', 'Galway'),\n",
       " ('Alan Williams', '99-WW-237', 'Galway'),\n",
       " ('Kerry Curry', '03-G-36241', 'Galway'),\n",
       " ('Sarah Heath', '09-W-11201', 'Monaghan'),\n",
       " ('Robert Acevedo', '13-MO-34031', 'Meath'),\n",
       " ('Tina Holland', '02-KK-25507', 'Sligo'),\n",
       " ('Rachel Johnson', '08-LH-46637', 'Kildare'),\n",
       " ('Paul Nicholson', '12-KY-47631', 'Wexford'),\n",
       " ('Jennifer Sutton', '01-SO-45136', 'Mayo'),\n",
       " ('Jeremiah Soto', '18-WH-15349', 'Sligo'),\n",
       " ('Jeremiah Soto', '14-MO-11345', 'Sligo'),\n",
       " ('Laura Miller', '13-CE-10371', 'Louth'),\n",
       " ('Frederick Schwartz', '17-KE-21153', 'Dublin'),\n",
       " ('Rachel Johnson', '12-G-30288', 'Kildare'),\n",
       " ('Jacob Moore', '13-T-20412', 'Longford'),\n",
       " ('Lucas Ross', '08-LS-13835', 'Cork'),\n",
       " ('Devin Shaw', '12-CW-37691', 'Wexford'),\n",
       " ('Sarah Heath', '00-KY-48702', 'Monaghan'),\n",
       " ('Connie Walls', '14-LD-41919', 'Limerick'),\n",
       " ('Laura Miller', '18-W-16094', 'Louth'),\n",
       " ('Jacob Moore', '11-MH-39456', 'Longford'),\n",
       " ('Rachel Johnson', '01-KK-21586', 'Kildare'),\n",
       " ('Sandra Knight', '09-WX-7243', 'Offaly'),\n",
       " ('Megan Clarke', '12-WX-26308', 'Kildare'),\n",
       " ('Tina Holland', '02-LS-42993', 'Sligo'),\n",
       " ('Nicholas Carrillo', '18-W-44751', 'Laois'),\n",
       " ('Leonard Chen', '11-L-45810', 'Galway'),\n",
       " ('Raymond Perkins', '12-MH-7025', 'Clare'),\n",
       " ('Diane Hunt', '09-CW-13802', 'Westmeath'),\n",
       " ('Nicholas Carrillo', '11-KK-40419', 'Laois'),\n",
       " ('Connie Walls', '09-MO-27719', 'Limerick'),\n",
       " ('Rachel Johnson', '99-RN-21293', 'Kildare'),\n",
       " ('Raymond Gould', '06-KK-24445', 'Clare'),\n",
       " ('Dana Wade', '99-DL-44188', 'Mayo'),\n",
       " ('Lucas Ross', '17-CW-12306', 'Cork'),\n",
       " ('Melanie White', '12-WH-30512', 'Carlow'),\n",
       " ('Donna Mason', '13-CW-22728', 'Longford'),\n",
       " ('Jordan Velasquez', '15-G-27780', 'Galway'),\n",
       " ('Morgan Marsh', '99-WX-37648', 'Westmeath'),\n",
       " ('Katherine Dalton', '07-G-30931', 'Kildare'),\n",
       " ('Mrs. Kerry Romero', '08-G-34713', 'Limerick'),\n",
       " ('Peter Vaughn DDS', '03-MO-23757', 'Cork'),\n",
       " ('Morgan Marsh', '09-LD-32395', 'Westmeath'),\n",
       " ('Donna Mason', '05-KE-47018', 'Longford'),\n",
       " ('Susan Cummings', '18-RN-21403', 'Cork'),\n",
       " ('Paul Raymond', '02-LH-37988', 'Louth'),\n",
       " ('Kathleen Henderson', '11-T-29849', 'Monaghan'),\n",
       " ('Alan Williams', '99-MN-36507', 'Galway'),\n",
       " ('Gregory Charles', '15-SO-10080', 'Wicklow'),\n",
       " ('Valerie Rodriguez', '10-KE-5471', 'Kerry'),\n",
       " ('Susan Cummings', '09-C-15081', 'Cork'),\n",
       " ('Shelby Beck', '12-D-10674', 'Tipperary'),\n",
       " ('Jeff Stevens', '16-KK-6777', 'Dublin'),\n",
       " ('Nathan Smith', '09-KY-24502', 'Roscommon'),\n",
       " ('Jeff Stevens', '06-L-13615', 'Dublin'),\n",
       " ('Marcus Malone', '11-WX-6607', 'Kildare'),\n",
       " ('Jesse Chavez', '99-KY-44876', 'Meath'),\n",
       " ('Susan Cummings', '01-KE-7495', 'Cork'),\n",
       " ('Justin Casey', '06-WH-45961', 'Louth'),\n",
       " ('Shannon Oneal', '13-RN-48840', 'Sligo'),\n",
       " ('Melissa Bell', '15-LS-32504', 'Kildare'),\n",
       " ('Kayla Rodriguez DVM', '09-KK-33938', 'Clare'),\n",
       " ('Leonard Brown', '15-SO-48732', 'Sligo'),\n",
       " ('Tina Holland', '18-LH-9276', 'Sligo'),\n",
       " ('Jennifer Reeves', '00-T-13145', 'Offaly'),\n",
       " ('Donna Mason', '17-L-8077', 'Longford'),\n",
       " ('Raymond Perkins', '16-KY-38486', 'Clare'),\n",
       " ('Kathleen Henderson', '13-C-5004', 'Monaghan'),\n",
       " ('Sabrina Thompson', '13-KE-8122', 'Longford'),\n",
       " ('Elizabeth Mcfarland', '13-D-16232', 'Dublin'),\n",
       " ('Tracey Olson', '07-OY-29590', 'Kilkenny'),\n",
       " ('John Davis', '18-LS-3902', 'Dublin'),\n",
       " ('Christina Bautista', '07-LD-25411', 'Longford'),\n",
       " ('Seth Simpson', '11-OY-49718', 'Westmeath'),\n",
       " ('Emily Cooper', '09-OY-12095', 'Kildare'),\n",
       " ('Emily Alvarado', '10-RN-14168', 'Longford'),\n",
       " ('Jenny Juarez', '00-CN-12132', 'Longford'),\n",
       " ('Peter Vaughn DDS', '14-G-24691', 'Cork'),\n",
       " ('Connie Walls', '08-L-9335', 'Limerick'),\n",
       " ('Mrs. Kerry Romero', '13-LS-7544', 'Limerick'),\n",
       " ('Sandra Knight', '15-RN-47108', 'Offaly'),\n",
       " ('Devin Shaw', '16-RN-12605', 'Wexford'),\n",
       " ('Jenny Juarez', '15-WX-13974', 'Longford'),\n",
       " ('Alan Williams', '00-T-26883', 'Galway'),\n",
       " ('Carrie Sullivan', '01-C-1695', 'Galway'),\n",
       " ('Alan Williams', '11-WW-3780', 'Galway'),\n",
       " ('Tina Holland', '06-CW-29425', 'Sligo'),\n",
       " ('Laura Miller', '04-MN-1637', 'Louth'),\n",
       " ('Raymond Perkins', '14-OY-39752', 'Clare'),\n",
       " ('Justin Casey', '15-MO-15513', 'Louth'),\n",
       " ('Robert Price', '16-MN-22976', 'Dublin'),\n",
       " ('Christopher Miller', '07-OY-14928', 'Kerry'),\n",
       " ('Gregory Vazquez', '09-L-10881', 'Sligo'),\n",
       " ('Daniel Smith', '99-WX-23085', 'Limerick'),\n",
       " ('Valerie Rodriguez', '01-DL-25359', 'Kerry'),\n",
       " ('Elizabeth Harper', '00-MO-45664', 'Donegal'),\n",
       " ('Daniel Smith', '08-WW-30636', 'Limerick'),\n",
       " ('Megan Clarke', '01-CN-16097', 'Kildare'),\n",
       " ('Tina Holland', '07-LM-3132', 'Sligo'),\n",
       " ('Marc Chapman', '09-T-9813', 'Dublin'),\n",
       " ('Anna Henry', '16-KK-30424', 'Carlow'),\n",
       " ('Jesse Chavez', '99-CE-38547', 'Meath'),\n",
       " ('Sarah Heath', '10-LM-31279', 'Monaghan'),\n",
       " ('Paul Nicholson', '18-LH-44089', 'Wexford'),\n",
       " ('David Matthews', '02-SO-11359', 'Leitrim'),\n",
       " ('Elizabeth Mcfarland', '10-KE-33674', 'Dublin'),\n",
       " ('George Fitzgerald', '15-KE-8245', 'Carlow'),\n",
       " ('Raymond Perkins', '09-KK-23170', 'Clare'),\n",
       " ('Christopher Mcmahon', '14-CN-36381', 'Limerick'),\n",
       " ('Christina Bautista', '00-C-29416', 'Longford'),\n",
       " ('Christopher Mcmahon', '10-OY-1992', 'Limerick'),\n",
       " ('David Matthews', '10-T-36797', 'Leitrim'),\n",
       " ('Rachel Johnson', '07-KY-35080', 'Kildare'),\n",
       " ('Gail Jones', '08-MO-42969', 'Waterford'),\n",
       " ('Jeff Stevens', '07-OY-23008', 'Dublin'),\n",
       " ('Joseph Griffith', '14-MO-46320', 'Wicklow'),\n",
       " ('Katherine Dalton', '09-CW-29560', 'Kildare'),\n",
       " ('Devin Shaw', '03-MH-49587', 'Wexford'),\n",
       " ('Paul Raymond', '10-MH-34061', 'Louth'),\n",
       " ('Lucas Ross', '08-OY-35517', 'Cork'),\n",
       " ('Peter Vaughn DDS', '04-KY-47667', 'Cork'),\n",
       " ('Gregory Vazquez', '03-C-18358', 'Sligo'),\n",
       " ('Marcus Malone', '11-DL-2662', 'Kildare'),\n",
       " ('Gail Jones', '06-CW-15872', 'Waterford'),\n",
       " ('Jenny Juarez', '08-KE-7824', 'Longford'),\n",
       " ('Sabrina Thompson', '14-WH-21137', 'Longford'),\n",
       " ('Kathleen Henderson', '11-W-6130', 'Monaghan'),\n",
       " ('Raymond Gould', '03-C-4508', 'Clare'),\n",
       " ('Elizabeth Mcfarland', '02-CN-35760', 'Dublin'),\n",
       " ('Megan Clarke', '13-C-5330', 'Kildare'),\n",
       " ('Justin Casey', '07-CN-40170', 'Louth'),\n",
       " ('Valerie Rodriguez', '07-CW-32094', 'Kerry'),\n",
       " ('Alan Williams', '13-CW-22639', 'Galway'),\n",
       " ('Alan Williams', '10-LD-39262', 'Galway'),\n",
       " ('Stephanie Yates', '14-CE-46501', 'Meath'),\n",
       " ('Susan Cummings', '16-WW-18559', 'Cork'),\n",
       " ('Christopher Miller', '11-LD-42457', 'Kerry'),\n",
       " ('Shannon Oneal', '02-W-35723', 'Sligo'),\n",
       " ('Tina Holland', '13-RN-4833', 'Sligo'),\n",
       " ('Karen Roach', '01-KK-12540', 'Sligo'),\n",
       " ('Laura Miller', '14-CN-39530', 'Louth'),\n",
       " ('Carrie Sullivan', '08-T-1665', 'Galway'),\n",
       " ('Frederick Schwartz', '13-LH-30593', 'Dublin'),\n",
       " ('Carrie Sullivan', '06-C-24008', 'Galway'),\n",
       " ('Megan Clarke', '12-LH-5689', 'Kildare'),\n",
       " ('Leonard Chen', '05-WW-47977', 'Galway'),\n",
       " ('Susan Cummings', '09-KK-5328', 'Cork'),\n",
       " ('Marie Carr', '10-DL-6386', 'Kerry'),\n",
       " ('John Davis', '05-MH-22339', 'Dublin'),\n",
       " ('Jackson Dean', '02-MH-44541', 'Louth'),\n",
       " ('Jesse Chavez', '18-MN-26444', 'Meath'),\n",
       " ('Gregory Charles', '12-LM-22338', 'Wicklow'),\n",
       " ('Devin Shaw', '18-KY-29981', 'Wexford'),\n",
       " ('Laura Miller', '01-G-8684', 'Louth'),\n",
       " ('Marc Chapman', '04-KY-32797', 'Dublin'),\n",
       " ('Paul Nicholson', '08-LD-12240', 'Wexford'),\n",
       " ('Donna Mason', '18-WW-11514', 'Longford'),\n",
       " ('Dana Wade', '03-L-40377', 'Mayo'),\n",
       " ('Jenny Juarez', '15-G-37225', 'Longford'),\n",
       " ('Emily Alvarado', '14-CN-41515', 'Longford'),\n",
       " ('Robert Fields', '09-LS-131', 'Louth'),\n",
       " ('David Cox', '12-LS-47102', 'Leitrim'),\n",
       " ('Alan Cabrera', '15-WX-8189', 'Leitrim'),\n",
       " ('Donna Mason', '13-CW-21688', 'Longford'),\n",
       " ('John Davis', '15-DL-3247', 'Dublin'),\n",
       " ('Raymond Perkins', '02-D-22267', 'Clare'),\n",
       " ('Robert Acevedo', '01-LS-33323', 'Meath'),\n",
       " ('Peter Vaughn DDS', '10-WH-9955', 'Cork'),\n",
       " ('Joseph Griffith', '03-MO-4365', 'Wicklow'),\n",
       " ('Joseph Griffith', '04-LD-23688', 'Wicklow'),\n",
       " ('Alan Williams', '13-G-16885', 'Galway'),\n",
       " ('Jenny Juarez', '18-KE-36389', 'Longford'),\n",
       " ('Melissa Lowe', '01-T-15866', 'Westmeath'),\n",
       " ('Christopher Miller', '08-KE-16056', 'Kerry'),\n",
       " ('Kayla Rodriguez DVM', '13-G-24475', 'Clare'),\n",
       " ('Emily Cooper', '03-MO-25665', 'Kildare'),\n",
       " ('Stephanie Yates', '18-T-2425', 'Meath'),\n",
       " ('Elizabeth Harper', '04-WW-24305', 'Donegal'),\n",
       " ('Shannon Oneal', '13-OY-23701', 'Sligo'),\n",
       " ('David Matthews', '08-MO-46007', 'Leitrim'),\n",
       " ('Robert Price', '00-L-47267', 'Dublin'),\n",
       " ('Emily Cooper', '08-KK-47849', 'Kildare'),\n",
       " ('Elizabeth Harper', '16-MN-41115', 'Donegal'),\n",
       " ('Dana Wade', '02-DL-7526', 'Mayo'),\n",
       " ('Melanie White', '01-G-15863', 'Carlow'),\n",
       " ('Elizabeth Harper', '14-SO-6402', 'Donegal'),\n",
       " ('Lori Harmon', '02-CN-7196', 'Carlow'),\n",
       " ('Christopher Mcmahon', '01-CW-35670', 'Limerick'),\n",
       " ('Sandra Knight', '16-T-45794', 'Offaly'),\n",
       " ('Anna Henry', '03-KK-1616', 'Carlow'),\n",
       " ('Jennifer Reeves', '08-WX-43305', 'Offaly'),\n",
       " ('Mrs. Sheila Wilkerson', '15-W-31836', 'Tipperary'),\n",
       " ('Susan Cummings', '03-KE-1400', 'Cork'),\n",
       " ('Jared Nguyen', '08-WW-22857', 'Cavan'),\n",
       " ('Elizabeth Harper', '15-L-48040', 'Donegal'),\n",
       " ('Stephanie Yates', '05-CN-49186', 'Meath'),\n",
       " ('Tracey Olson', '18-T-43669', 'Kilkenny'),\n",
       " ('John Davis', '05-WX-40194', 'Dublin'),\n",
       " ('Anna Henry', '08-LH-30886', 'Carlow'),\n",
       " ('Melanie White', '07-G-36331', 'Carlow'),\n",
       " ('Leonard Chen', '06-WW-48865', 'Galway'),\n",
       " ('Leonard Brown', '16-MO-40801', 'Sligo'),\n",
       " ('George Fitzgerald', '15-L-37732', 'Carlow'),\n",
       " ('Gail Jones', '10-G-21752', 'Waterford'),\n",
       " ('Susan Cummings', '08-C-34297', 'Cork'),\n",
       " ('Jacob Moore', '17-SO-23443', 'Longford'),\n",
       " ('Dana Wade', '05-CN-5924', 'Mayo'),\n",
       " ('David Cox', '05-W-22770', 'Leitrim'),\n",
       " ('Joshua Perez', '10-LH-34050', 'Galway'),\n",
       " ('Robert Fields', '16-LS-26245', 'Louth'),\n",
       " ('Hannah Collier', '05-D-30917', 'Leitrim'),\n",
       " ('Dana Wade', '07-G-48955', 'Mayo'),\n",
       " ('Diane Hunt', '13-G-48846', 'Westmeath'),\n",
       " ('Megan Clarke', '05-L-42386', 'Kildare'),\n",
       " ('Richard Foley', '08-T-12971', 'Offaly'),\n",
       " ('Carrie Sullivan', '18-WH-6082', 'Galway'),\n",
       " ('Daniel Smith', '12-MO-30235', 'Limerick'),\n",
       " ('John Davis', '16-T-22243', 'Dublin'),\n",
       " ('Jeff Stevens', '03-L-37130', 'Dublin'),\n",
       " ('Devin Shaw', '12-MO-18353', 'Wexford'),\n",
       " ('Robert Fields', '11-MN-11186', 'Louth'),\n",
       " ('Robert Price', '05-WX-40062', 'Dublin'),\n",
       " ('Melissa Lowe', '04-D-38409', 'Westmeath'),\n",
       " ('William Hall', '16-CE-29807', 'Kerry'),\n",
       " ('Joseph Griffith', '15-D-4632', 'Wicklow'),\n",
       " ('Joshua Perez', '14-LM-31240', 'Galway'),\n",
       " ('David Cox', '15-LH-20280', 'Leitrim'),\n",
       " ('Jeff Stevens', '04-L-14265', 'Dublin'),\n",
       " ('Sandra Knight', '05-KK-13066', 'Offaly'),\n",
       " ('Jordan Velasquez', '02-MN-14407', 'Galway'),\n",
       " ('Jared Nguyen', '11-CE-42446', 'Cavan'),\n",
       " ('Melissa Lowe', '16-W-29168', 'Westmeath'),\n",
       " ('Katherine Dalton', '03-G-19542', 'Kildare'),\n",
       " ('Hannah Collier', '18-MO-35400', 'Leitrim'),\n",
       " ('Alan Williams', '11-KK-35894', 'Galway'),\n",
       " ('Seth Simpson', '07-G-5958', 'Westmeath')]"
      ]
     },
     "execution_count": 39,
     "metadata": {},
     "output_type": "execute_result"
    }
   ],
   "source": [
    "c.execute(\"\"\"\n",
    "         SELECT p.Name, c.Registration, p.Address\n",
    "         FROM person as p JOIN car as c ON p.ID= c.OwnerID\n",
    "         \"\"\")\n",
    "c.fetchall()"
   ]
  },
  {
   "cell_type": "markdown",
   "metadata": {},
   "source": [
    "- Can query, for example, what car regs were not registered in the listed county.\n",
    "- See w3schools.com for a tutorial on sql"
   ]
  },
  {
   "cell_type": "code",
   "execution_count": 40,
   "metadata": {},
   "outputs": [],
   "source": [
    "conn.close()"
   ]
  },
  {
   "cell_type": "markdown",
   "metadata": {},
   "source": [
    "## End"
   ]
  },
  {
   "cell_type": "code",
   "execution_count": null,
   "metadata": {},
   "outputs": [],
   "source": []
  }
 ],
 "metadata": {
  "kernelspec": {
   "display_name": "Python 3",
   "language": "python",
   "name": "python3"
  },
  "language_info": {
   "codemirror_mode": {
    "name": "ipython",
    "version": 3
   },
   "file_extension": ".py",
   "mimetype": "text/x-python",
   "name": "python",
   "nbconvert_exporter": "python",
   "pygments_lexer": "ipython3",
   "version": "3.7.4"
  }
 },
 "nbformat": 4,
 "nbformat_minor": 2
}
